{
  "cells": [
    {
      "cell_type": "markdown",
      "metadata": {
        "id": "view-in-github",
        "colab_type": "text"
      },
      "source": [
        "<a href=\"https://colab.research.google.com/github/sorielkobayashi/Custom-Spleeter-Colab/blob/main/Neural%20Audio%20Stem%20Separation%20(Espa%C3%B1ol).ipynb\" target=\"_parent\"><img src=\"https://colab.research.google.com/assets/colab-badge.svg\" alt=\"Open In Colab\"/></a>"
      ]
    },
    {
      "cell_type": "markdown",
      "metadata": {
        "id": "a5yFVoov3OG0"
      },
      "source": [
        "#Spleeter Colab\n",
        "\n",
        "Esta es una extensión para [Deezer Spleeter](https://github.com/deezer/spleeter) que se ejecuta en Google Colab, utilizando Google Drive como almacenamiento de datos.\n",
        "\n",
        "El valor de `input` puede ser\n",
        "1.   Ruta a un archivo de audio individual ubicado en su Google Drive.\n",
        "2.   Ruta a un directorio en su Google Drive que contenga varios archivos de audio. Cada archivo de audio encontrado en el directorio será procesado individualmente.\n",
        "3.   URL individual de YouTube\n",
        "4.   Múltiples URLs de YouTube separadas por espacios. Cada vídeo de YouTube será procesado individualmente.\n",
        "\n",
        "La entrada será separada en 4 stems: voz, batería, bajo y otros. Los stems se guardarán como archivos WAV en su Google Drive. Introduzca `output_dir` relativo a su raíz de Google Drive."
      ]
    },
    {
      "cell_type": "code",
      "execution_count": 1,
      "metadata": {
        "cellView": "form",
        "colab": {
          "base_uri": "https://localhost:8080/"
        },
        "id": "hoOtlvKx3NY_",
        "outputId": "feeac2d0-3e74-44a8-dc2a-54336141d6c0"
      },
      "outputs": [
        {
          "output_type": "stream",
          "name": "stdout",
          "text": [
            "Using config gs://neural-research/olaviinha/spleeter-configs/custom-4stems-22kHz-z.json\n",
            "\u001b[92mSetup finished.\u001b[0m\n"
          ]
        }
      ],
      "source": [
        "#@title Setup\n",
        "#@markdown This cell needs to be run only once. It will mount your Google Drive and setup prerequisites.\n",
        "\n",
        "import os\n",
        "from google.colab import drive, output\n",
        "drive.mount('/content/drive')\n",
        "drive_root = '/content/drive/MyDrive/'\n",
        "\n",
        "# inhagcutils\n",
        "!pip -q install import-ipynb\n",
        "!curl -s -O https://raw.githubusercontent.com/olaviinha/inhagcutils/master/inhagcutils.ipynb\n",
        "import import_ipynb\n",
        "from inhagcutils import *\n",
        "!gsutil -q -m cp -R gs://neural-research/olaviinha/spleeter-configs/custom-4stems-22kHz-z.json /content/cfg.json\n",
        "\n",
        "#@title Install\n",
        "!apt -q install ffmpeg\n",
        "!pip -q install spleeter\n",
        "\n",
        "output.clear()\n",
        "print('Using config gs://neural-research/olaviinha/spleeter-configs/custom-4stems-22kHz-z.json')\n",
        "op(c.ok, 'Setup finished.')\n"
      ]
    },
    {
      "cell_type": "code",
      "execution_count": 2,
      "metadata": {
        "cellView": "form",
        "colab": {
          "base_uri": "https://localhost:8080/"
        },
        "id": "sbxOfF0t3RYh",
        "outputId": "aecd7064-d387-464a-fb61-095679081ec6"
      },
      "outputs": [
        {
          "output_type": "stream",
          "name": "stdout",
          "text": [
            "/usr/local/lib/python3.7/dist-packages/resampy/interpn.py:114: NumbaWarning: The TBB threading layer requires TBB version 2019.5 or later i.e., TBB_INTERFACE_VERSION >= 11005. Found TBB_INTERFACE_VERSION = 9107. The TBB threading layer is disabled.\n",
            "  _resample_loop_p(x, t_out, interp_win, interp_delta, num_table, scale, y)\n",
            "INFO:spleeter:Downloading model archive https://github.com/deezer/spleeter/releases/download/v1.4.0/4stems.tar.gz\n",
            "INFO:spleeter:Validating archive checksum\n",
            "INFO:spleeter:Extracting downloaded 4stems archive\n",
            "INFO:spleeter:4stems model file(s) extracted\n",
            "tcmalloc: large alloc 1258348544 bytes == 0xb183a000 @  0x7fa58320d1e7 0x7fa54c8bff42 0x7fa54f2c4c5a 0x7fa54f6655c4 0x7fa54f6b5b1f 0x7fa54f6b7769 0x7fa54f6b8757 0x7fa54f6b9e6e 0x7fa54f6be942 0x7fa54f6bee3f 0x7fa54555ee54 0x7fa5455531be 0x7fa54aa09021 0x7fa54aa05d33 0x7fa545c9b8b5 0x7fa582bd16db 0x7fa582f0a61f\n",
            "tcmalloc: large alloc 1258348544 bytes == 0xfc848000 @  0x7fa58320d1e7 0x7fa54c8bff42 0x7fa54f2c4c5a 0x7fa54f6655c4 0x7fa54f6b5b1f 0x7fa54f6b7769 0x7fa54f6b8757 0x7fa54f6b9e6e 0x7fa54f6be942 0x7fa54f6bee3f 0x7fa54555ee54 0x7fa5455531be 0x7fa54aa09021 0x7fa54aa05d33 0x7fa545c9b8b5 0x7fa582bd16db 0x7fa582f0a61f\n",
            "INFO:spleeter:File /content/drive/MyDrive/stems2/04 - She Loves You (2009 Digital Remaster)/vocals.wav written succesfully\n",
            "INFO:spleeter:File /content/drive/MyDrive/stems2/04 - She Loves You (2009 Digital Remaster)/drums.wav written succesfully\n",
            "INFO:spleeter:File /content/drive/MyDrive/stems2/04 - She Loves You (2009 Digital Remaster)/bass.wav written succesfully\n",
            "INFO:spleeter:File /content/drive/MyDrive/stems2/04 - She Loves You (2009 Digital Remaster)/other.wav written succesfully\n",
            "\u001b[92mFIN.\u001b[0m Files saved under directory /stems2/04 - She Loves You (2009 Digital Remaster)/\n"
          ]
        }
      ],
      "source": [
        "#@title Separate\n",
        "\n",
        "input = \"/content/04 - She Loves You (2009 Digital Remaster).flac\" #@param {type:\"string\"}\n",
        "output_dir = \"/stems2\" #@param {type:\"string\"}\n",
        "\n",
        "#----------------------------------------------------------------------------#\n",
        "\n",
        "import os\n",
        "from os.path import isfile, join\n",
        "from glob import glob\n",
        "\n",
        "input_type = check_input_type(input)\n",
        "tmp_dir = '/content/tmp/'\n",
        "seps_dir = fix_path(drive_root+output_dir)\n",
        "#seps_dir = '/content/tmp/seps'\n",
        "\n",
        "if not os.path.isdir(tmp_dir):\n",
        "  create_dirs([tmp_dir])\n",
        "# if not os.path.isdir(output_dir):\n",
        "#   create_dirs([seps_dir])\n",
        "\n",
        "if output_dir == '' or output_dir == 'same':\n",
        "  output_dir = fix_path(drive_root+path_dir(input))\n",
        "else:\n",
        "  output_dir = fix_path(drive_root+output_dir)\n",
        "  if not os.path.isdir(output_dir):\n",
        "    create_dirs([output_dir])\n",
        "\n",
        "if input_type == 'unknown':\n",
        "  input = drive_root+input\n",
        "  input_type = check_input_type(input)\n",
        "  if input_type=='dir':\n",
        "    input = fix_path(input)\n",
        "\n",
        "if input_type == 'youtube':\n",
        "  !pip -q install youtube-dl\n",
        "  !youtube-dl --restrict-filenames -x --no-continue --audio-format wav -o \"{tmp_dir}%(title)s.%(ext)s\" {input}\n",
        "\n",
        "from spleeter.separator import Separator\n",
        "separator = Separator('/content/cfg.json')\n",
        "\n",
        "if input_type == \"dir\" or input_type == \"youtube\":\n",
        "  if input_type == \"dir\":\n",
        "    target = input\n",
        "  if input_type == \"youtube\":\n",
        "    target = dir_tmp\n",
        "  file_list = list_audio(target)\n",
        "  for audiofile in file_list:\n",
        "    op(c.title, '\\nSeparate '+audiofile+' to '+seps_dir.replace(drive_root, '')+basename(input))\n",
        "    # Spleeter Python API is outdated for Colab\n",
        "    # separator.separate_to_file(audiofile, seps_dir)\n",
        "    !spleeter separate -p /content/cfg.json -o \"{output_dir}\" \"{audiofile}\"\n",
        "    op(c.ok, 'FIN.', 'Files saved under directory '+output_dir.replace(drive_root, '')+basename(audiofile)+'/')\n",
        "elif input_type == \"file\":\n",
        "  # Spleeter Python API is outdated for Colab\n",
        "  # separator.separate_to_file(input, seps_dir)\n",
        "  !spleeter separate -p /content/cfg.json -o \"{seps_dir}\" \"{input}\"\n",
        "  op(c.ok, 'FIN.', 'Files saved under directory '+output_dir.replace(drive_root, '')+basename(input)+'/')\n",
        "else:\n",
        "  print(\"We're not sure what you want to separate. Please check the input field.\")"
      ]
    },
    {
      "cell_type": "code",
      "execution_count": 3,
      "metadata": {
        "id": "0H6PmyE7McK2",
        "outputId": "d81a5a5f-5106-448a-bd37-3dfd0e8042cb",
        "colab": {
          "base_uri": "https://localhost:8080/"
        }
      },
      "outputs": [
        {
          "output_type": "stream",
          "name": "stdout",
          "text": [
            "/usr/local/lib/python3.7/dist-packages/resampy/interpn.py:114: NumbaWarning: The TBB threading layer requires TBB version 2019.5 or later i.e., TBB_INTERFACE_VERSION >= 11005. Found TBB_INTERFACE_VERSION = 9107. The TBB threading layer is disabled.\n",
            "  _resample_loop_p(x, t_out, interp_win, interp_delta, num_table, scale, y)\n",
            "tcmalloc: large alloc 1468088320 bytes == 0xccba2000 @  0x7f875d9871e7 0x7f8727039f42 0x7f8729a3ec5a 0x7f8729ddf5c4 0x7f8729e2fb1f 0x7f8729e31769 0x7f8729e32757 0x7f8729e33e6e 0x7f8729e38942 0x7f8729e38e3f 0x7f871fcd8e54 0x7f871fccd1be 0x7f8725183021 0x7f872517fd33 0x7f87204158b5 0x7f875d34b6db 0x7f875d68461f\n",
            "tcmalloc: large alloc 1468088320 bytes == 0x1243b6000 @  0x7f875d9871e7 0x7f8727039f42 0x7f8729a3ec5a 0x7f8729ddf5c4 0x7f8729e2fb1f 0x7f8729e31769 0x7f8729e32757 0x7f8729e33e6e 0x7f8729e38942 0x7f8729e38e3f 0x7f871fcd8e54 0x7f871fccd1be 0x7f8725183021 0x7f872517fd33 0x7f87204158b5 0x7f875d34b6db 0x7f875d68461f\n",
            "tcmalloc: large alloc 1468088320 bytes == 0x122754000 @  0x7f875d9871e7 0x7f8727039f42 0x7f8729a3ec5a 0x7f8729ddf5c4 0x7f8729e2fb1f 0x7f8729e31769 0x7f8729e32757 0x7f8729e33e6e 0x7f8729e38942 0x7f8729e38e3f 0x7f871fcd8e54 0x7f871fccd1be 0x7f8725183021 0x7f872517fd33 0x7f87204158b5 0x7f875d34b6db 0x7f875d68461f\n",
            "INFO:spleeter:File /content/drive/MyDrive/stems2/07 - Michelle (2009 Digital Remaster)/vocals.wav written succesfully\n",
            "INFO:spleeter:File /content/drive/MyDrive/stems2/07 - Michelle (2009 Digital Remaster)/drums.wav written succesfully\n",
            "INFO:spleeter:File /content/drive/MyDrive/stems2/07 - Michelle (2009 Digital Remaster)/bass.wav written succesfully\n",
            "INFO:spleeter:File /content/drive/MyDrive/stems2/07 - Michelle (2009 Digital Remaster)/other.wav written succesfully\n",
            "\u001b[92mFIN.\u001b[0m Files saved under directory /stems2/07 - Michelle (2009 Digital Remaster)/\n"
          ]
        }
      ],
      "source": [
        "#@title Separate\n",
        "\n",
        "input = \"/content/07 - Michelle (2009 Digital Remaster).flac\" #@param {type:\"string\"}\n",
        "output_dir = \"/stems2\" #@param {type:\"string\"}\n",
        "\n",
        "#----------------------------------------------------------------------------#\n",
        "\n",
        "import os\n",
        "from os.path import isfile, join\n",
        "from glob import glob\n",
        "\n",
        "input_type = check_input_type(input)\n",
        "tmp_dir = '/content/tmp/'\n",
        "seps_dir = fix_path(drive_root+output_dir)\n",
        "#seps_dir = '/content/tmp/seps'\n",
        "\n",
        "if not os.path.isdir(tmp_dir):\n",
        "  create_dirs([tmp_dir])\n",
        "# if not os.path.isdir(output_dir):\n",
        "#   create_dirs([seps_dir])\n",
        "\n",
        "if output_dir == '' or output_dir == 'same':\n",
        "  output_dir = fix_path(drive_root+path_dir(input))\n",
        "else:\n",
        "  output_dir = fix_path(drive_root+output_dir)\n",
        "  if not os.path.isdir(output_dir):\n",
        "    create_dirs([output_dir])\n",
        "\n",
        "if input_type == 'unknown':\n",
        "  input = drive_root+input\n",
        "  input_type = check_input_type(input)\n",
        "  if input_type=='dir':\n",
        "    input = fix_path(input)\n",
        "\n",
        "if input_type == 'youtube':\n",
        "  !pip -q install youtube-dl\n",
        "  !youtube-dl --restrict-filenames -x --no-continue --audio-format wav -o \"{tmp_dir}%(title)s.%(ext)s\" {input}\n",
        "\n",
        "from spleeter.separator import Separator\n",
        "separator = Separator('/content/cfg.json')\n",
        "\n",
        "if input_type == \"dir\" or input_type == \"youtube\":\n",
        "  if input_type == \"dir\":\n",
        "    target = input\n",
        "  if input_type == \"youtube\":\n",
        "    target = dir_tmp\n",
        "  file_list = list_audio(target)\n",
        "  for audiofile in file_list:\n",
        "    op(c.title, '\\nSeparate '+audiofile+' to '+seps_dir.replace(drive_root, '')+basename(input))\n",
        "    # Spleeter Python API is outdated for Colab\n",
        "    # separator.separate_to_file(audiofile, seps_dir)\n",
        "    !spleeter separate -p /content/cfg.json -o \"{output_dir}\" \"{audiofile}\"\n",
        "    op(c.ok, 'FIN.', 'Files saved under directory '+output_dir.replace(drive_root, '')+basename(audiofile)+'/')\n",
        "elif input_type == \"file\":\n",
        "  # Spleeter Python API is outdated for Colab\n",
        "  # separator.separate_to_file(input, seps_dir)\n",
        "  !spleeter separate -p /content/cfg.json -o \"{seps_dir}\" \"{input}\"\n",
        "  op(c.ok, 'FIN.', 'Files saved under directory '+output_dir.replace(drive_root, '')+basename(input)+'/')\n",
        "else:\n",
        "  print(\"We're not sure what you want to separate. Please check the input field.\")"
      ]
    },
    {
      "cell_type": "code",
      "source": [
        "#@title Comprimir Carpeta\n",
        "\n",
        "input = \"/content/drive/MyDrive/stems2/04 - She Loves You (2009 Digital Remaster)\" #@param {type:\"string\"}\n",
        "\n",
        "\n",
        "#----------------------------------------------------------------------------#\n",
        "\n",
        "\n",
        "\n",
        "from google.colab import files\n",
        "!apt-get install rar\n",
        "!rar -?\n",
        "!rar a \"{input}\".rar \"{input}\"\n",
        "\n"
      ],
      "metadata": {
        "cellView": "form",
        "id": "aHKbkgdkMjFj"
      },
      "execution_count": null,
      "outputs": []
    },
    {
      "cell_type": "code",
      "source": [
        "#@title Comprimir Carpeta\n",
        "\n",
        "input = \"/content/drive/MyDrive/stems2/04 - She Loves You (2009 Digital Remaster)\" #@param {type:\"string\"}\n",
        "\n",
        "\n",
        "#----------------------------------------------------------------------------#\n",
        "\n",
        "\n",
        "\n",
        "from google.colab import files\n",
        "!apt-get install rar\n",
        "!rar  a -m5 \"{input}\".rar \"{input}\"\n",
        "\n"
      ],
      "metadata": {
        "outputId": "d33e0102-31d6-4462-da27-e6de0245449f",
        "colab": {
          "base_uri": "https://localhost:8080/"
        },
        "id": "Lbt02F-vRV-W"
      },
      "execution_count": 18,
      "outputs": [
        {
          "output_type": "stream",
          "name": "stdout",
          "text": [
            "Reading package lists... Done\n",
            "Building dependency tree       \n",
            "Reading state information... Done\n",
            "rar is already the newest version (2:5.5.0-1).\n",
            "The following package was automatically installed and is no longer required:\n",
            "  libnvidia-common-460\n",
            "Use 'apt autoremove' to remove it.\n",
            "0 upgraded, 0 newly installed, 0 to remove and 49 not upgraded.\n",
            "\n",
            "RAR 5.50   Copyright (c) 1993-2017 Alexander Roshal   11 Aug 2017\n",
            "Trial version             Type 'rar -?' for help\n",
            "\n",
            "Evaluation copy. Please register.\n",
            "\n",
            "Creating archive /content/drive/MyDrive/stems2/04 - She Loves You (2009 Digital Remaster).rar\n",
            "\n",
            "Adding    /content/drive/MyDrive/stems2/04 - She Loves You (2009 Digital Remaster)/vocals.wav     \b\b\b\b  4%\b\b\b\b  8%\b\b\b\b 12%\b\b\b\b 16%\b\b\b\b 21%\b\b\b\b 24%\b\b\b\b\b  OK \n",
            "Adding    /content/drive/MyDrive/stems2/04 - She Loves You (2009 Digital Remaster)/drums.wav     \b\b\b\b 29%\b\b\b\b 33%\b\b\b\b 37%\b\b\b\b 41%\b\b\b\b 46%\b\b\b\b 49%\b\b\b\b\b  OK \n",
            "Adding    /content/drive/MyDrive/stems2/04 - She Loves You (2009 Digital Remaster)/bass.wav     \b\b\b\b 54%\b\b\b\b 58%\b\b\b\b 62%\b\b\b\b 66%\b\b\b\b 71%\b\b\b\b 74%\b\b\b\b\b  OK \n",
            "Adding    /content/drive/MyDrive/stems2/04 - She Loves You (2009 Digital Remaster)/other.wav     \b\b\b\b 79%\b\b\b\b 83%\b\b\b\b 87%\b\b\b\b 91%\b\b\b\b 96%\b\b\b\b 99%\b\b\b\b\b  OK \n",
            "Adding    /content/drive/MyDrive/stems2/04 - She Loves You (2009 Digital Remaster)     \b\b\b\b\b  OK \n",
            "Done\n"
          ]
        }
      ]
    }
  ],
  "metadata": {
    "colab": {
      "collapsed_sections": [],
      "name": "Copia de NeuralAudioStemSeparation.ipynb",
      "provenance": [],
      "include_colab_link": true
    },
    "kernelspec": {
      "display_name": "Python 3",
      "name": "python3"
    }
  },
  "nbformat": 4,
  "nbformat_minor": 0
}