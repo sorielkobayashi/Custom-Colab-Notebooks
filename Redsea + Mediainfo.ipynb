{
  "nbformat": 4,
  "nbformat_minor": 0,
  "metadata": {
    "colab": {
      "name": "All in One Colab Notebook.ipynb",
      "provenance": [],
      "collapsed_sections": [],
      "toc_visible": true,
      "include_colab_link": true
    },
    "kernelspec": {
      "name": "python3",
      "display_name": "Python 3"
    },
    "language_info": {
      "name": "python"
    }
  },
  "cells": [
    {
      "cell_type": "markdown",
      "metadata": {
        "id": "view-in-github",
        "colab_type": "text"
      },
      "source": [
        "<a href=\"https://colab.research.google.com/github/sorielkobayashi/Custom-Spleeter-Colab/blob/main/Redsea%20%2B%20Mediainfo.ipynb\" target=\"_parent\"><img src=\"https://colab.research.google.com/assets/colab-badge.svg\" alt=\"Open In Colab\"/></a>"
      ]
    },
    {
      "cell_type": "markdown",
      "source": [
        "# __Mount Google Drive__"
      ],
      "metadata": {
        "id": "qC6PmtJYyK2A"
      }
    },
    {
      "cell_type": "code",
      "source": [
        "#@markdown <br><center><img src='https://raw.githubusercontent.com/dropcreations/Essential-Google-Colab-Notebook/0b62cd8a437d3439a1dbece9119b73bfa890ad1a/cell_logos/Google-Drive-Logo.svg' height=\"50\" alt=\"Gdrive-logo\"/></center>\n",
        "#@markdown <center><h3><b>Mount Google Drive</b></h3></center><br>\n",
        "MODE = \"MOUNT\" #@param [\"MOUNT\", \"UNMOUNT\"]\n",
        "#Mount your Gdrive! \n",
        "from google.colab import drive\n",
        "drive.mount._DEBUG = False\n",
        "if MODE == \"MOUNT\":\n",
        "  drive.mount('/content/drive', force_remount=True)\n",
        "elif MODE == \"UNMOUNT\":\n",
        "  try:\n",
        "    drive.flush_and_unmount()\n",
        "  except ValueError:\n",
        "    pass\n",
        "  get_ipython().system_raw(\"rm -rf /root/.config/Google/DriveFS\")"
      ],
      "metadata": {
        "cellView": "form",
        "id": "0Il1pfgPyP7c"
      },
      "execution_count": null,
      "outputs": []
    },
    {
      "cell_type": "markdown",
      "source": [
        "### __Redsea Tidal Downloader__"
      ],
      "metadata": {
        "id": "ZKCHBZh0m8Yg"
      }
    },
    {
      "cell_type": "markdown",
      "source": [
        "* Enter folder path where you want to **save** files.\n",
        "* Run below cell to **clone** and **install** dependencies for Redsea respository."
      ],
      "metadata": {
        "id": "snV_ZcLym-si"
      }
    },
    {
      "cell_type": "code",
      "source": [
        "import os\n",
        "from IPython.display import clear_output\n",
        "savePath = \"\" #@param {type:\"string\"}\n",
        "os.chdir(savePath)\n",
        "!git clone https://github.com/Dniel97/RedSea.git\n",
        "!mv \"{savePath}/RedSea/config/settings.example.py\" \"{savePath}/RedSea/config/settings.py\"\n",
        "!apt update\n",
        "!apt install python3 ffmpeg\n",
        "redseaPath = os.path.join(savePath, \"RedSea\")\n",
        "redseaScript = os.path.join(redseaPath, \"redsea.py\")\n",
        "os.chdir(redseaPath)\n",
        "!pip install -r requirements.txt\n",
        "clear_output()\n",
        "print(\"Successfully Installed.\")"
      ],
      "metadata": {
        "cellView": "form",
        "id": "cXE454sfnAvA"
      },
      "execution_count": null,
      "outputs": []
    },
    {
      "cell_type": "markdown",
      "source": [
        "* Run below cell to manage **sessions**."
      ],
      "metadata": {
        "id": "5WSwqiXQnDyX"
      }
    },
    {
      "cell_type": "markdown",
      "source": [
        "* `list` - Lists stored sessions if any exist.\n",
        "* `remove` - Removes a stored session from the sessions file by name.\n",
        "* `default` - Set a default account for redsea to use when the -a flag has not been passed.\n",
        "* `reauth` - Reauthenticates with server to get new sessionId.\n",
        "* `add` - Prompts for a TV, Mobile or Desktop session. The TV option displays a 6 digit key which should be entered inside link.tidal.com where the user can login. The Mobile/Desktop option prompts for a Tidal username and password. Both options authorize a session which then gets stored in the sessions file."
      ],
      "metadata": {
        "id": "0kRycO2lnF4Y"
      }
    },
    {
      "cell_type": "code",
      "source": [
        "session = \"add\" #@param [\"list\", \"add\", \"remove\", \"default\", \"reauth\"]\n",
        "!python3 \"{redseaScript}\" auth {session}"
      ],
      "metadata": {
        "cellView": "form",
        "id": "pblALzS1nI1P"
      },
      "execution_count": null,
      "outputs": []
    },
    {
      "cell_type": "markdown",
      "source": [
        "* Enter **sessionName** that you created in above cell.\n",
        "* Enter **album/track/playlist/video link** or **links** to download.\n",
        "* Separate multiple urls by **spaces**.\n",
        "> **eg:** `url: [url_01] [url_02] [url_03] [url_04]...`\n",
        "* Files will be in **\"RedSea/downloads\"** in your save location.\n",
        "* You can **explore** for available **atmos / 360 albums and tracks**.\n",
        "* Check \"explore\" and select a \"**explore_type**\".\n",
        "* You can also search for **track/album/video**, use **search options**.\n",
        "* You can use explore or search, **not both at once**."
      ],
      "metadata": {
        "id": "q4Z4gIgDnLxR"
      }
    },
    {
      "cell_type": "code",
      "source": [
        "sessionName = \"\" #@param {type:\"string\"}\n",
        "url = \"\" #@param {type:\"string\"}\n",
        "sessionDefault = True #@param {type:\"boolean\"}\n",
        "explore = False #@param {type:\"boolean\"}\n",
        "exploreType = \"atmos albums\" #@param [\"atmos albums\", \"atmos tracks\", \"360 albums\", \"360 tracks\"]\n",
        "search = False #@param {type:\"boolean\"}\n",
        "searchType = \"track\" #@param [\"track\", \"album\", \"video\"]\n",
        "searchFor = \"\" #@param {type:\"string\"}\n",
        "\n",
        "commandLine = '\"' + redseaScript + '\" '\n",
        "\n",
        "if sessionDefault == False:\n",
        "  commandLine = commandLine + '-a \"' + sessionName + '\" '\n",
        "if explore == True:\n",
        "  commandLine = commandLine + 'explore ' + exploreType\n",
        "elif search == True:\n",
        "  commandLine = commandLine + 'search ' + searchType + ' ' + searchFor\n",
        "if search == False and explore == False:\n",
        "  commandLine = commandLine + url\n",
        "!python3 {commandLine}"
      ],
      "metadata": {
        "cellView": "form",
        "id": "NTDusUaonO-v"
      },
      "execution_count": null,
      "outputs": []
    },
    {
      "cell_type": "markdown",
      "source": [
        "* If you have **already cloned and used** Redsea reop, enter the \"**RedSea**\" folder path and run below cell.\n",
        "* Then you can run above cells again **without authentication**. **[Session & Download cells]**"
      ],
      "metadata": {
        "id": "VPTmH7AbJrH2"
      }
    },
    {
      "cell_type": "code",
      "source": [
        "import os\n",
        "from IPython.display import clear_output\n",
        "locatePath = \"\" #@param {type:\"string\"}\n",
        "os.chdir(locatePath)\n",
        "!apt update\n",
        "!apt install python3 ffmpeg\n",
        "!pip install -r requirements.txt\n",
        "redseaPath = locatePath\n",
        "redseaScript = os.path.join(redseaPath, \"redsea.py\")\n",
        "clear_output()\n",
        "print(\"Successfully Restarted.\")"
      ],
      "metadata": {
        "cellView": "form",
        "id": "H4oTGBYnKPqi"
      },
      "execution_count": null,
      "outputs": []
    },
    {
      "cell_type": "markdown",
      "source": [
        "# __Mediainfo__"
      ],
      "metadata": {
        "id": "cPHFdW8JBarF"
      }
    },
    {
      "cell_type": "markdown",
      "source": [
        "* Run below cell to **get** mediainfo."
      ],
      "metadata": {
        "id": "f-g4NITYBdU1"
      }
    },
    {
      "cell_type": "code",
      "source": [
        "#@markdown <br><center><img src='https://github.com/dropcreations/Essential-Google-Colab-Notebook/blob/main/cell_logos/Mediainfo-Logo.png?raw=true' height=\"40\" alt=\"Mediainfo-logo\"/></center>\n",
        "#@markdown <center><h3><b>Mediainfo</b></h3></center><br>\n",
        "\n",
        "mediaFile = \"\" #@param {type:\"string\"}\n",
        "\n",
        "import os\n",
        "from IPython.display import clear_output\n",
        "\n",
        "if os.path.isfile(\"/usr/bin/mediainfo\") is False:\n",
        "  !sudo apt update\n",
        "  !sudo apt install mediainfo\n",
        "  clear_output()\n",
        "!mediainfo \"{mediaFile}\""
      ],
      "metadata": {
        "id": "8esWDtFOBqVv",
        "cellView": "form"
      },
      "execution_count": null,
      "outputs": []
    }
  ]
}