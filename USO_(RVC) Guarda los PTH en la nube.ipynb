{
  "cells": [
    {
      "cell_type": "markdown",
      "source": [
        "# **Únete a nuestro servidor de Discord — IA Hispano**\n",
        "## ¡Descubre una comunidad llena de __modelos de artistas top__, __actualizaciones del Colab__, __soporte 24/7__, __tutoriales__ y __mucho más__!\n",
        "\n",
        "### Además, estarás rodeado de personas apasionadas por la inteligencia artificial y la música, ¡así podrás conectarte con gente como tú y crear cosas increíbles!\n",
        "\n",
        "[¡Haz clic aquí para unirte ahora mismo!](https://discord.iahispano.com) \n"
      ],
      "metadata": {
        "id": "mQDLst-KDTjP"
      }
    },
    {
      "cell_type": "code",
      "source": [
        "from google.colab import drive\n",
        "drive.mount('/content/drive')\n",
        "from IPython.display import clear_output\n",
        "!sudo apt update\n",
        "!sudo apt install p7zip-full p7zip-rar unrar rar\n",
        "clear_output()\n",
        "print(\"Successfully Installed.\")"
      ],
      "metadata": {
        "id": "BWUV-L_x4Xk-",
        "outputId": "ddab4f2c-e6f1-41c0-ae16-78a643671260",
        "colab": {
          "base_uri": "https://localhost:8080/"
        }
      },
      "execution_count": 1,
      "outputs": [
        {
          "output_type": "stream",
          "name": "stdout",
          "text": [
            "Mounted at /content/drive\n"
          ]
        }
      ]
    },
    {
      "cell_type": "code",
      "execution_count": null,
      "metadata": {
        "cellView": "form",
        "id": "wjddIFr1oS3W"
      },
      "outputs": [],
      "source": [
        "#@title [PASO 1] Instalar dependencias (Esto suele tardar un poco, ignorar errores aquí)\n",
        "!apt-get -y install build-essential python3-dev ffmpeg\n",
        "!pip3 install --upgrade setuptools wheel\n",
        "!pip3 install --upgrade pip\n",
        "!pip3 install faiss-gpu fairseq gradio ffmpeg ffmpeg-python praat-parselmouth pyworld numpy==1.23.5 numba==0.56.4 librosa==0.9.2\n",
        "!apt -y install -qq aria2\n",
        "!pip install mega.py --quiet\n",
        "!pip install pyngrok==4.1.12 --quiet\n",
        "!pip install gdown --quiet\n",
        "import ipywidgets as widgets\n",
        "from IPython.display import clear_output\n",
        "import os, shutil\n",
        "success=widgets.Button(description=\"\\u2714 Listo!\",disabled=True, button_style=\"success\")"
      ]
    },
    {
      "cell_type": "code",
      "execution_count": null,
      "metadata": {
        "cellView": "form",
        "id": "ge_97mfpgqTm"
      },
      "outputs": [],
      "source": [
        "#@title [PASO 2] Descargar repositorio de GitHub\n",
        "#%cd /content/\n",
        "#!git clone https://github.com/fumiama/Retrieval-based-Voice-Conversion-WebUI\n",
        "#%cd /content/drive/MyDrive/Retrieval-based-Voice-Conversion-WebUI\n",
        "#!mkdir -p pretrained uvr5_weights\n",
        "#!git pull\n",
        "\n",
        "%cd /content/\n",
        "!wget https://github.com/kalomaze/Retrieval-based-Voice-Conversion-WebUI/releases/download/20230428updated/updated20230428.zip\n",
        "!mkdir /content/drive/MyDrive/Retrieval-based-Voice-Conversion-WebUI\n",
        "!unzip -d /content/drive/MyDrive/Retrieval-based-Voice-Conversion-WebUI -b updated20230428.zip\n",
        "!rm updated20230428.zip\n",
        "%cd /content/drive/MyDrive/Retrieval-based-Voice-Conversion-WebUI\n",
        "!wget https://raw.githubusercontent.com/sorielkobayashi/Custom-Colab-Notebooks/main/easy-infer.py\n",
        "!mkdir -p pretrained uvr5_weights"
      ]
    },
    {
      "cell_type": "code",
      "execution_count": 4,
      "metadata": {
        "cellView": "form",
        "id": "UG3XpUwEomUz",
        "outputId": "fa9a8288-5588-42c0-bc37-343f77507613",
        "colab": {
          "base_uri": "https://localhost:8080/"
        }
      },
      "outputs": [
        {
          "output_type": "stream",
          "name": "stdout",
          "text": [
            "\u001b[0m\n",
            "Download Results:\n",
            "gid   |stat|avg speed  |path/URI\n",
            "======+====+===========+=======================================================\n",
            "4f6895|\u001b[1;32mOK\u001b[0m  |    93MiB/s|/content/drive/MyDrive/Retrieval-based-Voice-Conversion-WebUI/hubert_base.pt\n",
            "\n",
            "Status Legend:\n",
            "(OK):download completed.\n"
          ]
        }
      ],
      "source": [
        "#@title [PASO 3] Descargar modelo base\n",
        "#!aria2c --console-log-level=error -c -x 16 -s 16 -k 1M https://huggingface.co/lj1995/VoiceConversionWebUI/resolve/main/pretrained/D32k.pth -d /content/drive/MyDrive/Retrieval-based-Voice-Conversion-WebUI/pretrained -o D32k.pth\n",
        "#!aria2c --console-log-level=error -c -x 16 -s 16 -k 1M https://huggingface.co/lj1995/VoiceConversionWebUI/resolve/main/pretrained/D40k.pth -d /content/drive/MyDrive/Retrieval-based-Voice-Conversion-WebUI/pretrained -o D40k.pth\n",
        "#!aria2c --console-log-level=error -c -x 16 -s 16 -k 1M https://huggingface.co/lj1995/VoiceConversionWebUI/resolve/main/pretrained/D48k.pth -d /content/drive/MyDrive/Retrieval-based-Voice-Conversion-WebUI/pretrained -o D48k.pth\n",
        "#!aria2c --console-log-level=error -c -x 16 -s 16 -k 1M https://huggingface.co/lj1995/VoiceConversionWebUI/resolve/main/pretrained/G32k.pth -d /content/drive/MyDrive/Retrieval-based-Voice-Conversion-WebUI/pretrained -o G32k.pth\n",
        "#!aria2c --console-log-level=error -c -x 16 -s 16 -k 1M https://huggingface.co/lj1995/VoiceConversionWebUI/resolve/main/pretrained/G40k.pth -d /content/drive/MyDrive/Retrieval-based-Voice-Conversion-WebUI/pretrained -o G40k.pth\n",
        "#!aria2c --console-log-level=error -c -x 16 -s 16 -k 1M https://huggingface.co/lj1995/VoiceConversionWebUI/resolve/main/pretrained/G48k.pth -d /content/drive/MyDrive/Retrieval-based-Voice-Conversion-WebUI/pretrained -o G48k.pth\n",
        "#!aria2c --console-log-level=error -c -x 16 -s 16 -k 1M https://huggingface.co/lj1995/VoiceConversionWebUI/resolve/main/pretrained/f0D32k.pth -d /content/drive/MyDrive/Retrieval-based-Voice-Conversion-WebUI/pretrained -o f0D32k.pth\n",
        "#!aria2c --console-log-level=error -c -x 16 -s 16 -k 1M https://huggingface.co/lj1995/VoiceConversionWebUI/resolve/main/pretrained/f0D40k.pth -d /content/drive/MyDrive/Retrieval-based-Voice-Conversion-WebUI/pretrained -o f0D40k.pth\n",
        "#!aria2c --console-log-level=error -c -x 16 -s 16 -k 1M https://huggingface.co/lj1995/VoiceConversionWebUI/resolve/main/pretrained/f0D48k.pth -d /content/drive/MyDrive/Retrieval-based-Voice-Conversion-WebUI/pretrained -o f0D48k.pth\n",
        "#!aria2c --console-log-level=error -c -x 16 -s 16 -k 1M https://huggingface.co/lj1995/VoiceConversionWebUI/resolve/main/pretrained/f0G32k.pth -d /content/drive/MyDrive/Retrieval-based-Voice-Conversion-WebUI/pretrained -o f0G32k.pth\n",
        "#!aria2c --console-log-level=error -c -x 16 -s 16 -k 1M https://huggingface.co/lj1995/VoiceConversionWebUI/resolve/main/pretrained/f0G40k.pth -d /content/drive/MyDrive/Retrieval-based-Voice-Conversion-WebUI/pretrained -o f0G40k.pth\n",
        "#!aria2c --console-log-level=error -c -x 16 -s 16 -k 1M https://huggingface.co/lj1995/VoiceConversionWebUI/resolve/main/pretrained/f0G48k.pth -d /content/drive/MyDrive/Retrieval-based-Voice-Conversion-WebUI/pretrained -o f0G48k.pth\n",
        "\n",
        "#!aria2c --console-log-level=error -c -x 16 -s 16 -k 1M https://huggingface.co/lj1995/VoiceConversionWebUI/resolve/main/uvr5_weights/HP2-人声vocals+非人声instrumentals.pth -d /content/drive/MyDrive/Retrieval-based-Voice-Conversion-WebUI/uvr5_weights -o HP2-人声vocals+非人声instrumentals.pth\n",
        "#!aria2c --console-log-level=error -c -x 16 -s 16 -k 1M https://huggingface.co/lj1995/VoiceConversionWebUI/resolve/main/uvr5_weights/HP5-主旋律人声vocals+其他instrumentals.pth -d /content/drive/MyDrive/Retrieval-based-Voice-Conversion-WebUI/uvr5_weights -o HP5-主旋律人声vocals+其他instrumentals.pth\n",
        "\n",
        "!aria2c --console-log-level=error -c -x 16 -s 16 -k 1M https://huggingface.co/lj1995/VoiceConversionWebUI/resolve/main/hubert_base.pt -d /content/drive/MyDrive/Retrieval-based-Voice-Conversion-WebUI -o hubert_base.pt"
      ]
    },
    {
      "cell_type": "code",
      "execution_count": 5,
      "metadata": {
        "id": "OVQoLQJXS7WX",
        "cellView": "form",
        "outputId": "871ddf8c-f8cf-47ac-df74-1ef14a94b5f8",
        "colab": {
          "base_uri": "https://localhost:8080/",
          "height": 49,
          "referenced_widgets": [
            "37c8059b4f0d4e22a24a5e0a101cf8d4",
            "611d68c8b208410ca2aa99d2ddd9387b",
            "0b883658ad31425b82082de61523d4b5"
          ]
        }
      },
      "outputs": [
        {
          "output_type": "display_data",
          "data": {
            "text/plain": [
              "Button(button_style='success', description='✔ Listo!', disabled=True, style=ButtonStyle())"
            ],
            "application/vnd.jupyter.widget-view+json": {
              "version_major": 2,
              "version_minor": 0,
              "model_id": "37c8059b4f0d4e22a24a5e0a101cf8d4"
            }
          },
          "metadata": {}
        }
      ],
      "source": [
        "#@title [PASO 4] Descargar el modelo (Importante - Lee descripción)\n",
        "#@markdown Descarga el modelo y súbelo a tu cuenta de Google Drive (importante seleccionar la opción de compartirlo que sea público). A continuación, proporciona el enlace de tu Google Drive aquí. Si no realizas esta acción, podrías encontrarte con problemas y el modelo no aparecerá correctamente.\n",
        "from mega import Mega\n",
        "import os\n",
        "MODEL = \"ITCHIO\"  #@param {type:\"string\"}\n",
        "MODELEPOCH = ''\n",
        "url='https://drive.google.com/file/d/1cJOqIEM1uYJTBCkYJPUyG7ZB8o3s_u7r/view?usp=drivesdk'#@param {type:\"string\"}\n",
        "MODELZIP = MODEL + '.zip'\n",
        "modelname_path='//content/drive/MyDrive/zips/'+MODELZIP\n",
        "if url != '':\n",
        "  !mkdir -p /content/drive/MyDrive/Retrieval-based-Voice-Conversion-WebUI/logs/{MODEL}\n",
        "  !mkdir -p //content/drive/MyDrive/zips/\n",
        "  if \"drive.google.com\" in url:\n",
        "    !gdown $url --fuzzy -O $modelname_path\n",
        "  elif \"mega.nz\" in url:\n",
        "    m = Mega()\n",
        "    m.download_url(url, '//content/drive/MyDrive/zips')\n",
        "  else:\n",
        "    !wget $url -O //content/drive/MyDrive/zips/{MODELZIP}\n",
        "  for filename in os.listdir(\"//content/drive/MyDrive/zips\"):\n",
        "    if filename.endswith(\".zip\"):\n",
        "      zip_file = os.path.join(\"//content/drive/MyDrive/zips\", filename)\n",
        "      shutil.unpack_archive(zip_file, \"//content/drive/MyDrive/unzips\", 'zip')\n",
        "  #Move model into logs folder\n",
        "  for root, dirs, files in os.walk('//content/drive/MyDrive/unzips'):\n",
        "    for file in files:\n",
        "      if \"G_\" in file:\n",
        "        MODELEPOCH = file.split(\"G_\")[1].split(\".\")[0]\n",
        "    if MODELEPOCH == '':\n",
        "      MODELEPOCH = '404'\n",
        "    for file in files:\n",
        "      file_path = os.path.join(root, file)\n",
        "      if file.endswith(\".npy\") or file.endswith(\".index\"):\n",
        "        !mv {file_path} /content/drive/MyDrive/Retrieval-based-Voice-Conversion-WebUI/logs/{MODEL}/\n",
        "      elif \"G_\" not in file and \"D_\" not in file and file.endswith(\".pth\"):\n",
        "        !mv {file_path} /content/drive/MyDrive/Retrieval-based-Voice-Conversion-WebUI/weights/{MODEL}.pth\n",
        "\n",
        "  !rm -r //content/drive/MyDrive/unzips/\n",
        "  !rm -r //content/drive/MyDrive/zips/\n",
        "  clear_output()\n",
        "  display(success)\n",
        "else:\n",
        "  print(\"URL cannot be left empty. If you don't want to download a model now, just skip this step.\")"
      ]
    },
    {
      "cell_type": "code",
      "execution_count": null,
      "metadata": {
        "id": "7vh6vphDwO0b",
        "outputId": "c15baf91-7bf3-4e2c-fbe6-34472e319084",
        "colab": {
          "base_uri": "https://localhost:8080/"
        }
      },
      "outputs": [
        {
          "output_type": "stream",
          "name": "stdout",
          "text": [
            "Traceback (most recent call last):\n",
            "  File \"/content/drive/MyDrive/Retrieval-based-Voice-Conversion-WebUI/easy-infer.py\", line 161, in vc_single\n",
            "    audio = load_audio(parent_dir+'/'+input_audio, 16000)\n",
            "TypeError: unsupported operand type(s) for +: 'NoneType' and 'str'\n",
            "\n",
            "Traceback (most recent call last):\n",
            "  File \"/usr/local/lib/python3.10/dist-packages/gradio/routes.py\", line 437, in run_predict\n",
            "    output = await app.get_blocks().process_api(\n",
            "  File \"/usr/local/lib/python3.10/dist-packages/gradio/blocks.py\", line 1349, in process_api\n",
            "    data = self.postprocess_data(fn_index, result[\"prediction\"], state)\n",
            "  File \"/usr/local/lib/python3.10/dist-packages/gradio/blocks.py\", line 1283, in postprocess_data\n",
            "    prediction_value = block.postprocess(prediction_value)\n",
            "  File \"/usr/local/lib/python3.10/dist-packages/gradio/components.py\", line 2586, in postprocess\n",
            "    file_path = self.audio_to_temp_file(\n",
            "  File \"/usr/local/lib/python3.10/dist-packages/gradio/components.py\", line 360, in audio_to_temp_file\n",
            "    temp_dir = Path(dir) / self.hash_bytes(data.tobytes())\n",
            "AttributeError: 'NoneType' object has no attribute 'tobytes'\n",
            "2023-06-10 20:21:40 | INFO | fairseq.tasks.hubert_pretraining | current directory is /content/drive/MyDrive/Retrieval-based-Voice-Conversion-WebUI\n",
            "2023-06-10 20:21:40 | INFO | fairseq.tasks.hubert_pretraining | HubertPretrainingTask Config {'_name': 'hubert_pretraining', 'data': 'metadata', 'fine_tuning': False, 'labels': ['km'], 'label_dir': 'label', 'label_rate': 50.0, 'sample_rate': 16000, 'normalize': False, 'enable_padding': False, 'max_keep_size': None, 'max_sample_size': 250000, 'min_sample_size': 32000, 'single_target': False, 'random_crop': True, 'pad_audio': False}\n",
            "2023-06-10 20:21:40 | INFO | fairseq.models.hubert.hubert | HubertModel Config: {'_name': 'hubert', 'label_rate': 50.0, 'extractor_mode': default, 'encoder_layers': 12, 'encoder_embed_dim': 768, 'encoder_ffn_embed_dim': 3072, 'encoder_attention_heads': 12, 'activation_fn': gelu, 'layer_type': transformer, 'dropout': 0.1, 'attention_dropout': 0.1, 'activation_dropout': 0.0, 'encoder_layerdrop': 0.05, 'dropout_input': 0.1, 'dropout_features': 0.1, 'final_dim': 256, 'untie_final_proj': True, 'layer_norm_first': False, 'conv_feature_layers': '[(512,10,5)] + [(512,3,2)] * 4 + [(512,2,2)] * 2', 'conv_bias': False, 'logit_temp': 0.1, 'target_glu': False, 'feature_grad_mult': 0.1, 'mask_length': 10, 'mask_prob': 0.8, 'mask_selection': static, 'mask_other': 0.0, 'no_mask_overlap': False, 'mask_min_space': 1, 'mask_channel_length': 10, 'mask_channel_prob': 0.0, 'mask_channel_selection': static, 'mask_channel_other': 0.0, 'no_mask_channel_overlap': False, 'mask_channel_min_space': 1, 'conv_pos': 128, 'conv_pos_groups': 16, 'latent_temp': [2.0, 0.5, 0.999995], 'skip_masked': False, 'skip_nomask': False, 'checkpoint_activations': False, 'required_seq_len_multiple': 2, 'depthwise_conv_kernel_size': 31, 'attn_type': '', 'pos_enc_type': 'abs', 'fp16': False}\n",
            "npy: 7.253540754318237s, f0: 0.09156417846679688s, infer: 1.0352349281311035s\n",
            "npy: 0.5898361206054688s, f0: 0.7521815299987793s, infer: 1.886512041091919s\n",
            "npy: 0.5572254657745361s, f0: 0.7452869415283203s, infer: 1.8567907810211182s\n",
            "Downloading...\n",
            "From: https://drive.google.com/uc?id=1z-HA7DTLFesEoMKYqlLKxEGUJkOsMXhY\n",
            "To: /content/drive/MyDrive/Retrieval-based-Voice-Conversion-WebUI/zips/BadBunny.zip\n",
            "100% 74.2M/74.2M [00:01<00:00, 54.6MB/s]\n",
            "Downloading...\n",
            "From: https://drive.google.com/uc?id=1-guUHl-pP47KIV4mMKBIFgMncEy2pdFJ\n",
            "To: /content/drive/MyDrive/Retrieval-based-Voice-Conversion-WebUI/zips/SelenaGomez.zip\n",
            " 89% 84.4M/95.3M [00:02<00:00, 33.5MB/s]loading weights/BadBunny.pth\n",
            "100% 95.3M/95.3M [00:03<00:00, 30.5MB/s]\n",
            "gin_channels: 256 self.spk_embed_dim: 109\n",
            "<All keys matched successfully>\n"
          ]
        }
      ],
      "source": [
        "#@title [PASO FINAL] Inicia la interfaz\n",
        "%cd /content/drive/MyDrive/Retrieval-based-Voice-Conversion-WebUI\n",
        "!python3 easy-infer.py --colab --pycmd python3"
      ]
    },
    {
      "cell_type": "code",
      "metadata": {
        "id": "XlDyLy_JZJ03"
      },
      "source": [
        "import sys, os, urllib.request\n",
        "import time\n",
        "import subprocess\n",
        "import contextlib\n",
        "from IPython.display import clear_output\n",
        "#@markdown <br><center><img src='https://mega.nz/favicon.ico?v=3' height=\"50\" alt=\"MEGA-logo\"/></center>\n",
        "#@markdown <center><h2>Transfer from Mega to GDrive</h2></center><br>\n",
        "HOME = os.path.expanduser(\"~\")\n",
        "if not os.path.exists(f\"{HOME}/.ipython/ocr.py\"):\n",
        "    hCode = \"https://raw.githubusercontent.com/biplobsd/\" \\\n",
        "                \"OneClickRun/master/res/ocr.py\"\n",
        "    urllib.request.urlretrieve(hCode, f\"{HOME}/.ipython/ocr.py\")\n",
        "\n",
        "from ocr import (\n",
        "    runSh,\n",
        "    loadingAn,\n",
        ")\n",
        "#@title MEGA public link download\n",
        "URL = \"https://mega.nz/folder/zxBASA6A#CSUvUM42owmECyp8duWNjQ\" #@param {type:\"string\"}\n",
        "OUTPUT_PATH = \"/content/drive/MyDrive\" #@param {type:\"string\"}\n",
        "#@markdown #####_*Sometimes this cell doesn't stop itself after the completion of the transfer. In case of that stop the cell manually._\n",
        "if not OUTPUT_PATH:\n",
        "  os.makedirs(\"downloads\", exist_ok=True)\n",
        "  OUTPUT_PATH = \"downloads\"\n",
        "# MEGAcmd installing\n",
        "if not os.path.exists(\"/usr/bin/mega-cmd\"):\n",
        "    loadingAn()\n",
        "    print(\"Installing MEGA ...\")\n",
        "    runSh('sudo apt-get -y update')\n",
        "    runSh('sudo apt-get -y install libmms0 libc-ares2 libc6 libcrypto++6 libgcc1 libmediainfo0v5 libpcre3 libpcrecpp0v5 libssl1.1 libstdc++6 libzen0v5 zlib1g apt-transport-https')\n",
        "    runSh('sudo curl -sL -o /var/cache/apt/archives/MEGAcmd.deb https://mega.nz/linux/MEGAsync/Debian_9.0/amd64/megacmd-Debian_9.0_amd64.deb', output=True)\n",
        "    runSh('sudo dpkg -i /var/cache/apt/archives/MEGAcmd.deb', output=True)\n",
        "    print(\"MEGA is installed.\")\n",
        "    clear_output()\n",
        "\n",
        "# Unix, Windows and old Macintosh end-of-line\n",
        "newlines = ['\\n', '\\r\\n', '\\r']\n",
        "\n",
        "def unbuffered(proc, stream='stdout'):\n",
        "    stream = getattr(proc, stream)\n",
        "    with contextlib.closing(stream):\n",
        "        while True:\n",
        "            out = []\n",
        "            last = stream.read(1)\n",
        "            # Don't loop forever\n",
        "            if last == '' and proc.poll() is not None:\n",
        "                break\n",
        "            while last not in newlines:\n",
        "                # Don't loop forever\n",
        "                if last == '' and proc.poll() is not None:\n",
        "                    break\n",
        "                out.append(last)\n",
        "                last = stream.read(1)\n",
        "            out = ''.join(out)\n",
        "            yield out\n",
        "\n",
        "\n",
        "def transfare():\n",
        "    import codecs\n",
        "    decoder = codecs.getincrementaldecoder(\"UTF-8\")()\n",
        "    cmd = [\"mega-get\", URL, OUTPUT_PATH]\n",
        "    proc = subprocess.Popen(\n",
        "        cmd,\n",
        "        stdout=subprocess.PIPE,\n",
        "        stderr=subprocess.STDOUT,\n",
        "        # Make all end-of-lines '\\n'\n",
        "        universal_newlines=True,\n",
        "    )\n",
        "    for line in unbuffered(proc):\n",
        "        print(line)\n",
        "        \n",
        "\n",
        "\n",
        "transfare()\n",
        "\n"
      ],
      "execution_count": null,
      "outputs": []
    },
    {
      "cell_type": "code",
      "source": [],
      "metadata": {
        "id": "UkdjVt5h8Le4"
      },
      "execution_count": null,
      "outputs": []
    }
  ],
  "metadata": {
    "accelerator": "GPU",
    "colab": {
      "provenance": []
    },
    "gpuClass": "standard",
    "kernelspec": {
      "display_name": "Python 3",
      "name": "python3"
    },
    "language_info": {
      "name": "python"
    },
    "widgets": {
      "application/vnd.jupyter.widget-state+json": {
        "37c8059b4f0d4e22a24a5e0a101cf8d4": {
          "model_module": "@jupyter-widgets/controls",
          "model_name": "ButtonModel",
          "model_module_version": "1.5.0",
          "state": {
            "_dom_classes": [],
            "_model_module": "@jupyter-widgets/controls",
            "_model_module_version": "1.5.0",
            "_model_name": "ButtonModel",
            "_view_count": null,
            "_view_module": "@jupyter-widgets/controls",
            "_view_module_version": "1.5.0",
            "_view_name": "ButtonView",
            "button_style": "success",
            "description": "✔ Listo!",
            "disabled": true,
            "icon": "",
            "layout": "IPY_MODEL_611d68c8b208410ca2aa99d2ddd9387b",
            "style": "IPY_MODEL_0b883658ad31425b82082de61523d4b5",
            "tooltip": ""
          }
        },
        "611d68c8b208410ca2aa99d2ddd9387b": {
          "model_module": "@jupyter-widgets/base",
          "model_name": "LayoutModel",
          "model_module_version": "1.2.0",
          "state": {
            "_model_module": "@jupyter-widgets/base",
            "_model_module_version": "1.2.0",
            "_model_name": "LayoutModel",
            "_view_count": null,
            "_view_module": "@jupyter-widgets/base",
            "_view_module_version": "1.2.0",
            "_view_name": "LayoutView",
            "align_content": null,
            "align_items": null,
            "align_self": null,
            "border": null,
            "bottom": null,
            "display": null,
            "flex": null,
            "flex_flow": null,
            "grid_area": null,
            "grid_auto_columns": null,
            "grid_auto_flow": null,
            "grid_auto_rows": null,
            "grid_column": null,
            "grid_gap": null,
            "grid_row": null,
            "grid_template_areas": null,
            "grid_template_columns": null,
            "grid_template_rows": null,
            "height": null,
            "justify_content": null,
            "justify_items": null,
            "left": null,
            "margin": null,
            "max_height": null,
            "max_width": null,
            "min_height": null,
            "min_width": null,
            "object_fit": null,
            "object_position": null,
            "order": null,
            "overflow": null,
            "overflow_x": null,
            "overflow_y": null,
            "padding": null,
            "right": null,
            "top": null,
            "visibility": null,
            "width": null
          }
        },
        "0b883658ad31425b82082de61523d4b5": {
          "model_module": "@jupyter-widgets/controls",
          "model_name": "ButtonStyleModel",
          "model_module_version": "1.5.0",
          "state": {
            "_model_module": "@jupyter-widgets/controls",
            "_model_module_version": "1.5.0",
            "_model_name": "ButtonStyleModel",
            "_view_count": null,
            "_view_module": "@jupyter-widgets/base",
            "_view_module_version": "1.2.0",
            "_view_name": "StyleView",
            "button_color": null,
            "font_weight": ""
          }
        }
      }
    }
  },
  "nbformat": 4,
  "nbformat_minor": 0
}